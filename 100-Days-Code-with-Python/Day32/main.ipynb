{
 "cells": [
  {
   "cell_type": "code",
   "execution_count": 1,
   "metadata": {},
   "outputs": [],
   "source": [
    "import smtplib\n",
    "import datetime as dt\n",
    "import pandas as pd"
   ]
  },
  {
   "cell_type": "code",
   "execution_count": 2,
   "metadata": {},
   "outputs": [
    {
     "data": {
      "text/plain": [
       "'\\nSMTP CONNECTION\\nGmail =  smpt.gmail.com\\nHotmail = smtp.live.com\\nYahoo = smtp.mail.yahoo.com\\n'"
      ]
     },
     "execution_count": 2,
     "metadata": {},
     "output_type": "execute_result"
    }
   ],
   "source": [
    "\"\"\"\n",
    "SMTP CONNECTION\n",
    "Gmail =  smpt.gmail.com\n",
    "Hotmail = smtp.live.com\n",
    "Yahoo = smtp.mail.yahoo.com\n",
    "\"\"\"\n",
    "\n",
    "# my_email = \"asgarrifadzulfikar@gmail.com\"\n",
    "# my_password = \"kyqs dpen lrpo zhif\"\n",
    "\n",
    "# with smtplib.SMTP(\"smtp.gmail.com\") as connection :\n",
    "#   connection.starttls()\n",
    "#   connection.login(user=my_email, password=my_password)\n",
    "#   connection.sendmail(from_addr=my_email,\n",
    "#                       to_addrs=\"imanueluneputty121103@gmail.com\",\n",
    "#                       msg=\"Subject:Hello\\n\\nThis is the body of the email\"\n",
    "#                     )"
   ]
  },
  {
   "cell_type": "code",
   "execution_count": 3,
   "metadata": {},
   "outputs": [
    {
     "name": "stdout",
     "output_type": "stream",
     "text": [
      "Congratulations, COVID are gone!!!\n",
      "0\n",
      "<class 'datetime.datetime'>\n"
     ]
    }
   ],
   "source": [
    "now = dt.datetime.now()\n",
    "year = now.year\n",
    "day_of_week = now.weekday()\n",
    "\n",
    "if year == 2020 :\n",
    "  print(\"Wear a mask\")\n",
    "else :\n",
    "  print(\"Congratulations, COVID are gone!!!\")\n",
    "\n",
    "print(day_of_week) # The computer always count from 0 -> Monday. And so on\n",
    "print(type(now))"
   ]
  },
  {
   "cell_type": "code",
   "execution_count": 4,
   "metadata": {},
   "outputs": [
    {
     "name": "stdout",
     "output_type": "stream",
     "text": [
      "2003-11-12 12:00:00\n"
     ]
    }
   ],
   "source": [
    "date_of_birth = dt.datetime(year=2003, month=11, day=12, hour=12)\n",
    "print(date_of_birth)"
   ]
  },
  {
   "cell_type": "code",
   "execution_count": 15,
   "metadata": {},
   "outputs": [
    {
     "name": "stdout",
     "output_type": "stream",
     "text": [
      "[{0: '\"When you arise in the morning think of what a privilege it is to be alive, to think, to enjoy, to love...\"  - Marcus Aurelius\\n'}, {0: '\"Either you run the day or the day runs you.\" - Jim Rohn\\n'}, {0: '\"Mondays are the start of the work week which offer new beginnings 52 times a year!\" - David Dweck\\n'}, {0: '\"You\\'ve got to get up every morning with determination if you\\'re going to go to bed with satisfaction.\" - George Lorimer\\n'}, {0: '\"Be miserable. Or motivate yourself. Whatever has to be done, it\\'s always your choice.\" - Wayne Dyer\\n'}, {0: '\"Your Monday morning thoughts set the tone for your whole week. See yourself getting stronger, and living a fulfilling, happier & healthier life.\" - Germany Kent\\n'}, {0: '\"You don\\'t have to be great to start, but you have to start to be great.\" - Zig Ziglar\\n'}, {0: '\"Each morning when I open my eyes I say to myself: I, not events, have the power to make me happy or unhappy today. I can choose which it shall be. Yesterday is dead, tomorrow hasn\\'t arrived yet. I have just one day, today, and I\\'m going to be happy in it.\" - Groucho Marx\\n'}, {0: '\"Life is full of beauty. Notice it. Notice the bumble bee, the small child, and the smiling faces. Smell the rain, and feel the wind. Live your life to the fullest potential, and fight for your dreams.\" - Ashley Smith\\n'}, {0: '\"When you start to do the things that you truly love, it wouldn\\'t matter whether it is Monday or Friday; you would be so excited to wake up each morning to work on your passions.\" - Edmond Mbiaka\\n'}, {0: '\"A ship is always safe at shore but that is not what it\\'s built for.\" - Albert Einstein\\n'}, {0: '\"Stress is caused by being \\'here\\' but wanting to be \\'there.\\' - Eckhart Tolle\\n'}, {0: '\"People rarely succeed unless they have fun in what they are doing.\" - Dale Carnegie\\n'}, {0: '\"Your attitude, not your aptitude, will determine your altitude.\" - Zig Ziglar\\n'}, {0: '\"You may have to fight a battle more than once to win it.\" - Margaret Thatcher\\n'}, {0: '\"If you don\\'t design your own life plan, chances are you\\'ll fall into someone else\\'s plan. And guess what they have planned for you? Not much.\" - Jim Rohn\\n'}, {0: '\"Try not to become a person of success, but rather try to become a person of value.\" - Albert Einstein\\n'}, {0: '\"Morning is an important time of day, because how you spend your morning can often tell you what kind of day you are going to have.\" - Lemony Snicket\\n'}, {0: '\"Just one small positive thought in the morning can change your whole day.\" - Dalai Lama\\n'}, {0: '\"Think of many things; do one.\" - Portuguese proverb\\n'}, {0: '\"One of the best pieces of advice I ever got was from a horse master. He told me to go slow to go fast. I think that applies to everything in life. We live as though there aren\\'t enough hours in the day but if we do each thing calmly and carefully we will get it done quicker and with much less stress.\" - Viggo Mortensen\\n'}, {0: '\"Don\\'t let what you cannot do interfere with what you can do.\" - John R. Wooden\\n'}, {0: '\"Success means doing the best we can with what we have. Success is the doing, not the getting; in the trying, not the triumph. Success is a personal standard, reaching for the highest that is in us, becoming all that we can be.\" - Zig Ziglar\\n'}, {0: '\"The starting point of all achievement is desire.\" - Napoleon Hill\\n'}, {0: '\"I was thinking one day and I realized that if I just had somebody behind me all the way to motivate me I could make a big difference. Nobody came along like that so I just became that person for myself.\" -  Unknown\\n'}, {0: '\"If you don\\'t pay appropriate attention to what has your attention, it will take more of your attention than it deserves.\" - David Allen\\n'}, {0: '\"Spend eighty percent of your time focusing on the opportunities of tomorrow rather than the problems of yesterday.\" - Brian Tracy\\n'}, {0: '\"Keep on going, and the chances are that you will stumble on something, perhaps when you are least expecting it. I never heard of anyone ever stumbling on something sitting down.\" - Charles F. Kettering\\n'}, {0: '\"Shoot for the moon. Even if you miss, you\\'ll land among the stars.\" - Brian Littrell\\n'}, {0: '\"Whether you think you can or think you can\\'t, you\\'re right.\" - Henry Ford\\n'}, {0: '\"The successful warrior is the average man, with laser-like focus.\" - Bruce Lee\\n'}, {0: '\"The only thing worse than starting something and failing ... is not starting something.\" - Seth Godin\\n'}, {0: '\"Do not be embarrassed by your failures, learn from them and start again.\" - Richard Branson\\n'}, {0: '\"For fast-acting relief, try slowing down. \" - Lily Tomlin\\n'}, {0: '\"There is more to life than increasing its speed.\" - Mahatma Gandhi\\n'}, {0: '\"It is not a daily increase, but a daily decrease. Hack away at the inessentials.\" - Bruce Lee\\n'}, {0: '\"If I had eight hours to chop down a tree, I\\'d spend six hours sharpening my ax.\" - Abraham Lincoln\\n'}, {0: '\"Keep away from people who try to belittle your ambitions. Small people always do that, but the really great make you feel that you, too, can become great.\" - Mark Twain\\n'}, {0: '\"We can easily manage if we will only take, each day, the burden appointed to it. But the load will be too heavy for us if we carry yesterday\\'s burden over again today, and then add the burden of the morrow before we are required to bear it.\" - John Newton\\n'}, {0: '\"If you want to make an easy job seem mighty hard, just keep putting off doing it.\" - Olin Miller\\n'}, {0: '\"Winners make a habit of manufacturing their own positive expectations in advance of the event.\" - Brian Tracy\\n'}, {0: '\"Follow effective actions with quiet reflection. From the quiet reflection will come even more effective action.\" - Peter Drucker\\n'}, {0: '\"Don\\'t mistake activity with achievement.\" - John Wooden\\n'}, {0: '\"One of the symptoms of an approaching nervous breakdown is the belief that one\\'s work is terribly important.\" - Bertrand Russell\\n'}, {0: '\"I\\'ve missed more than 9000 shots in my career. I\\'ve lost almost 300 games. 26 times, I\\'ve been trusted to take the game winning shot and missed. I\\'ve failed over and over and over again in my life. And that is why I succeed.\" - Michael Jordan\\n'}, {0: '\"Start where you are. Use what you have. Do what you can.\" - Arthur Ashe\\n'}, {0: '\"Show me a person who has never made a mistake and I\\'ll show you someone who has never achieved much.\" - Joan Collins\\n'}, {0: '\"If you treat every situation as a life and death matter, you\\'ll die a lot of times.\" - Dean Smith\\n'}, {0: '\"Amateurs sit and wait for inspiration, the rest of us just get up and go to work.\" - Stephen King\\n'}, {0: '\"The secret of getting ahead is getting started. The secret of getting started is breaking your complex overwhelming tasks into small manageable tasks, and then starting on the first one.\" - Mark Twain\\n'}, {0: '\"Things may come to those who wait, but only the things left by those who hustle.\" - Abraham Lincoln\\n'}, {0: '\"People who succeed have momentum. The more they succeed, the more they want to succeed, and the more they find a way to succeed. Similarly, when someone is failing, the tendency is to get on a downward spiral that can even become a self-fulfilling prophecy.\" - Tony Robbins\\n'}, {0: '\"I attribute my success to this: I never gave or took any excuse.\" - Florence Nightingale\\n'}, {0: '\"Take time to deliberate; but when the time for action arrives, stop thinking and go in.\" - Napoleon Bonaparte\\n'}, {0: '\"There is no traffic jam along the extra mile.\" - Roger Staubach\\n'}, {0: '\"Motivation is a fire from within. If someone else tries to light that fire under you, chances are it will burn very briefly.\" - Stephen R. Covey\\n'}, {0: '\"Success is liking yourself, liking what you do, and liking how you do it.\" - Maya Angelou\\n'}, {0: '\"Only put off until tomorrow what you are willing to die having left undone.\" - Pablo Picasso\\n'}, {0: '\"There are two types of people who will tell you that you cannot make a difference in this world: those who are afraid to try and those who are afraid you will succeed.\" - Ray Goforth\\n'}, {0: '\"Everything you want is on the other side of fear.\" - Jack Canfield\\n'}, {0: '\"Life is 10% what happens to us and 90% how we react to it.\" - Dennis P. Kimbro\\n'}, {0: '\"You are never too old to set another goal or to dream a new dream.\" - C.S. Lewis\\n'}, {0: '\"If you genuinely want something, don\\'t wait for it  - teach yourself to be impatient.\" - Gurbaksh Chahal\\n'}, {0: '\"The truth is that our finest moments are most likely to occur when we are feeling deeply uncomfortable, unhappy, or unfulfilled. For it is only in such moments, propelled by our discomfort, that we are likely to step out of our ruts and start searching for different ways or truer answers.\" - M. Scott Peck\\n'}, {0: '\"For most of life, nothing wonderful happens. If you don\\'t enjoy getting up and working and finishing your work and sitting down to a meal with family or friends, then the chances are you\\'re not going to be very happy. If someone bases his/her happiness on major events like a great job, huge amounts of money, a flawlessly happy marriage or a trip to Paris, that person isn\\'t going to be happy much of the time.If, on the other hand, happiness depends on a good breakfast, flowers in the yard, a drink or a nap, then we are more likely to live with quite a bit of happiness.\" - Andy Rooney\\n'}, {0: '\"Love yourself first and everything else falls into line. You really have to love yourself to get anything done in this world.\" - Lucille Ball\\n'}, {0: '\"We become what we think about.\" - Earl Nightingale\\n'}, {0: '\"I don\\'t want to get to the end of my life and find that I lived just the length of it. I want to have lived the width of it as well.\" - Diane Ackerman\\n'}, {0: '\"New beginnings are often disguised as painful endings.\" - Lao Tzu\\n'}, {0: '\"The universe is change; our life is what our thoughts make it.\" - Marcus Aurelius\\n'}, {0: '\"For success, attitude is equally as important as ability.\" - Harry F. Banks\\n'}, {0: '\"Optimism is a happiness magnet. If you stay positive, good things and good people will be drawn to you.\" - Mary Lou Retton\\n'}, {0: '\"Don\\'t wait. The time will never be just right.\" - Napoleon Hill\\n'}, {0: '\"It does not matter how slowly you go, so long as you do not stop.\" - Confucius\\n'}, {0: '\"Life\\'s real failure is when you do not realize how close you were to success when you gave up.\" - Unknown\\n'}, {0: '\"Failure will never overtake me if my determination to succeed is strong enough.\" -  Og Mandino\\n'}, {0: '\"When we long for life without difficulties, remind us that oaks grow strong in contrary winds and diamonds are made under pressure.\" - Peter Marshall\\n'}, {0: '\"What you get by achieving your goals is not as important as what you become by achieving your goals.\" - Henry David Thoreau\\n'}, {0: '\"Ever tried. Ever failed. No matter. Try Again. Fail again. Fail better.\" - Samuel Beckett\\n'}, {0: '\"Success seems to be connected with action. Successful people keep moving. They make mistakes, but they don\\'t quit.\" - Conrad Hilton\\n'}, {0: '\"Life begins at the end of your comfort zone.\" - Neale Donald Walsh\\n'}, {0: '\"When a resolute young fellow steps up to the great bully, the world, and takes him boldly by the beard, he is often surprised to find it comes off in his hand, and that it was only tied on to scare away the timid adventurers.\" - Ralph Waldo Emerson\\n'}, {0: '\"What seems to us as bitter trials are often blessings in disguise.\" - Oscar Wilde\\n'}, {0: '\"Aim for success, not perfection. Never give up your right to be wrong, because then you will lose the ability to learn new things and move forward with your life. Remember that fear always lurks behind perfectionism.\" - David M. Burns\\n'}, {0: '\"I find that the harder I work, the more luck I seem to have.\" - Thomas Jefferson\\n'}, {0: '\"If opportunity doesn\\'t knock, build a door.\" - Milton Berle\\n'}, {0: '\"You can\\'t make positive choices for the rest of your life without an environment that makes those choices easy, natural, and enjoyable.\" - Deepak Chopra\\n'}, {0: '\"Dreams can come true, but there is a secret. They\\'re realized through the magic of persistence, determination, commitment, passion, practice, focus and hard work. They happen a step at a time, manifested over years, not weeks.\" - Elbert Hubbard\\n'}, {0: '\"The past has no power over the present moment.\" - Eckhart Tolle\\n'}, {0: '\"The best way to succeed in this world is to act on the advice you give to others.\" - Unknown\\n'}, {0: '\"If you take responsibility for yourself you will develop a hunger to accomplish your dreams.\" - Les Brown\\n'}, {0: '\"Success is not measured by what you accomplish, but by the opposition you have encountered, and the courage with which you have maintained the struggle against overwhelming odds.\" - Orison Swett Marden\\n'}, {0: '\"Never limit yourself because of others\\' limited imagination; never limit others because of your own limited imagination.\" - Mae Jemison\\n'}, {0: '\"When I\\'m old and dying, I plan to look back on my life and say, \\'Wow, that was an adventure,\\' not, \\'Wow, I sure felt safe.\\'\" - Tom Preston-Werner\\n'}, {0: '\"Our greatest fear should not be of failure but of succeeding at things in life that don\\'t really matter.\" - Francis Chan\\n'}, {0: '\"Nothing in the world can take the place of perseverance. Talent will not; nothing is more common than unsuccessful people with talent. Genius will not; unrewarded genius is almost legendary. Education will not; the world is full of educated derelicts. Perseverance and determination alone are omnipotent.\" - Calvin Coolidge\\n'}, {0: '\"It takes but one positive thought when given a chance to survive and thrive to overpower an entire army of negative thoughts.\" - Robert H. Schuller\\n'}, {0: '\"When we strive to become better than we are, everything around us becomes better too.\" - Paulo Coelho\\n'}, {0: '\"Twenty years from now you will be more disappointed by the things that you didn\\'t do than by the ones you did do. So throw off the bowlines. Sail away from the safe harbor. Catch the trade winds in your sails. Explore. Dream. Discover.\" - Mark Twain\\n'}, {0: '\"A year from now you may wish you had started today.\" - Karen Lamb\\n'}, {0: '\"To laugh often and much; to win the respect of intelligent people and the affection of children... to leave the world a better place... to know even one life has breathed easier because you have lived. This is to have succeeded.\" - Ralph Waldo Emerson\\n'}, {0: '\"Don\\'t brood. Get on with living and loving. You don\\'t have forever.\" - Leo Buscaglia'}]\n"
     ]
    },
    {
     "name": "stderr",
     "output_type": "stream",
     "text": [
      "<>:1: SyntaxWarning: invalid escape sequence '\\q'\n",
      "<>:1: SyntaxWarning: invalid escape sequence '\\q'\n",
      "C:\\Users\\iMnuel\\AppData\\Local\\Temp\\ipykernel_39228\\1426173780.py:1: SyntaxWarning: invalid escape sequence '\\q'\n",
      "  with open(\"Birthday+Wisher+(Day+32)+start\\quotes.txt\", \"r\") as data_file :\n"
     ]
    }
   ],
   "source": [
    "with open(\"Birthday+Wisher+(Day+32)+start\\quotes.txt\", \"r\") as data_file :\n",
    "  quotes = data_file.readlines()\n",
    "\n",
    "df = pd.DataFrame(quotes)\n",
    "\n",
    "print(df.to_dict(orient='records'))"
   ]
  },
  {
   "cell_type": "code",
   "execution_count": null,
   "metadata": {},
   "outputs": [],
   "source": []
  }
 ],
 "metadata": {
  "kernelspec": {
   "display_name": "Python 3",
   "language": "python",
   "name": "python3"
  },
  "language_info": {
   "codemirror_mode": {
    "name": "ipython",
    "version": 3
   },
   "file_extension": ".py",
   "mimetype": "text/x-python",
   "name": "python",
   "nbconvert_exporter": "python",
   "pygments_lexer": "ipython3",
   "version": "3.12.5"
  }
 },
 "nbformat": 4,
 "nbformat_minor": 2
}
