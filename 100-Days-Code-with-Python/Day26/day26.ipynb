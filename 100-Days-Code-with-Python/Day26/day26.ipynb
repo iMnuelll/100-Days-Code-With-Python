{
 "cells": [
  {
   "cell_type": "markdown",
   "metadata": {},
   "source": [
    "**List Comprehension**"
   ]
  },
  {
   "cell_type": "code",
   "execution_count": 1,
   "metadata": {},
   "outputs": [],
   "source": [
    "\"\"\"Syntax\n",
    "new_list = [new_item for item in list]\n",
    "\"\"\"\n",
    "\n",
    "numbers = [1 , 2, 3]\n",
    "new_numbers = [n + 1 for n in numbers]"
   ]
  },
  {
   "cell_type": "code",
   "execution_count": 2,
   "metadata": {},
   "outputs": [
    {
     "name": "stdout",
     "output_type": "stream",
     "text": [
      "[2, 3, 4]\n"
     ]
    }
   ],
   "source": [
    "print(new_numbers)"
   ]
  },
  {
   "cell_type": "code",
   "execution_count": 8,
   "metadata": {},
   "outputs": [
    {
     "name": "stdout",
     "output_type": "stream",
     "text": [
      "[2, 4, 6, 8]\n"
     ]
    }
   ],
   "source": [
    "numbers = [n*2 for n in range(1,5)]\n",
    "print(numbers)"
   ]
  },
  {
   "cell_type": "markdown",
   "metadata": {},
   "source": [
    "**Conditional List Comprehension**"
   ]
  },
  {
   "cell_type": "code",
   "execution_count": 23,
   "metadata": {},
   "outputs": [],
   "source": [
    "names = ['Alex', 'Eleanor', 'Adam', 'Beth', 'Dave', 'Freddie', 'Caroline']\n",
    "short_names = [shorter for shorter in names if len(shorter) < 5]\n",
    "long_names = [long_name.upper() for long_name in names if len(long_name) > 5]"
   ]
  },
  {
   "cell_type": "code",
   "execution_count": 24,
   "metadata": {},
   "outputs": [
    {
     "name": "stdout",
     "output_type": "stream",
     "text": [
      "['Alex', 'Adam', 'Beth', 'Dave']\n"
     ]
    }
   ],
   "source": [
    "print(short_names)"
   ]
  },
  {
   "cell_type": "code",
   "execution_count": 25,
   "metadata": {},
   "outputs": [
    {
     "name": "stdout",
     "output_type": "stream",
     "text": [
      "['ELEANOR', 'FREDDIE', 'CAROLINE']\n"
     ]
    }
   ],
   "source": [
    "print(long_names)"
   ]
  },
  {
   "cell_type": "markdown",
   "metadata": {},
   "source": [
    "**Exercise**"
   ]
  },
  {
   "cell_type": "markdown",
   "metadata": {},
   "source": [
    "**Squaring Numbers**\n",
    "You are going to write a List Comprehension to create a new list called squared_numbers. This new list should contain every number in the list numbers but each number should be squared. \n",
    "\n",
    "e.g.\n",
    "\n",
    "4 * 4 = 16\n",
    "\n",
    "4 squared equals 16.\n",
    "\n",
    "**DO NOT** modify the List numbers directly. Try to use List Comprehension instead of a Loop. \n",
    "\n",
    "Target Output \n",
    "\n",
    "[1, 1, 4, 9, 25, 64, 169, 441, 1156, 3025] "
   ]
  },
  {
   "cell_type": "code",
   "execution_count": 26,
   "metadata": {},
   "outputs": [
    {
     "name": "stdout",
     "output_type": "stream",
     "text": [
      "[1, 1, 4, 9, 25, 64, 169, 441, 1156, 3025]\n"
     ]
    }
   ],
   "source": [
    "numbers = [1, 1, 2, 3, 5, 8, 13, 21, 34, 55]\n",
    "squared_numbers = [squared*squared for squared in numbers]\n",
    "print(squared_numbers)"
   ]
  },
  {
   "cell_type": "markdown",
   "metadata": {},
   "source": [
    "**Filtering Even Numbers**\n",
    "In this list comprehension exercise you will practice using list comprehension to filter out the even numbers from a series of numbers.   \n",
    "\n",
    "\n",
    "\n",
    "First, use list comprehension to convert the list_of_strings to a list of integers called numbers.   \n",
    "\n",
    "Then use list comprehension again to create a new list called result.\n",
    "\n",
    "This new list should only contain the even numbers from the list numbers. \n",
    "\n",
    "Again, try to use Python's List Comprehension instead of a Loop. "
   ]
  },
  {
   "cell_type": "code",
   "execution_count": 38,
   "metadata": {},
   "outputs": [
    {
     "name": "stdout",
     "output_type": "stream",
     "text": [
      "[0, 32, 8, 2, 8, 64, 42]\n"
     ]
    }
   ],
   "source": [
    "list_of_strings = ['9', '0', '32', '8', '2', '8', '64', '29', '42', '99']\n",
    "numbers = [int(number) for number in list_of_strings]\n",
    "result = [even_number for even_number in numbers if even_number % 2 == 0]\n",
    "print(result)"
   ]
  },
  {
   "cell_type": "markdown",
   "metadata": {},
   "source": [
    "**Data Overlap**\n",
    "💪 This exercise is HARD 💪 \n",
    "\n",
    "Take a look inside file1.txt and file2.txt. They each contain a bunch of numbers, each number on a new line. \n",
    "\n",
    "You are going to create a list called result which contains the numbers that are common in both files. \n",
    "\n",
    "e.g. if file1.txt contained: \n",
    "\n",
    "1 \n",
    "\n",
    "2 \n",
    "\n",
    "3\n",
    "\n",
    "and file2.txt contained: \n",
    "\n",
    "2\n",
    "\n",
    "3\n",
    "\n",
    "4\n",
    "\n",
    "result = [2, 3]\n",
    "\n",
    "\n",
    "\n",
    "IMPORTANT:  The output should be a list of integers and not strings!\n",
    "\n",
    "Try to use List Comprehension instead of a Loop. "
   ]
  },
  {
   "cell_type": "code",
   "execution_count": 45,
   "metadata": {},
   "outputs": [
    {
     "name": "stdout",
     "output_type": "stream",
     "text": [
      "[3, 6, 5, 33, 12, 7, 42, 13]\n"
     ]
    }
   ],
   "source": [
    "with open(\"file1.txt\", \"r\") as data :\n",
    "  file_1 = data.read().split()\n",
    "\n",
    "with open(\"file2.txt\", \"r\") as data :\n",
    "  file_2 = data.read().split()\n",
    "\n",
    "\n",
    "result = [int(contains) for contains in file_1 if contains in file_2]\n",
    "\n",
    "print(result)"
   ]
  },
  {
   "cell_type": "markdown",
   "metadata": {},
   "source": [
    "**Dictionary Comprehension**"
   ]
  },
  {
   "cell_type": "code",
   "execution_count": 46,
   "metadata": {},
   "outputs": [
    {
     "name": "stdout",
     "output_type": "stream",
     "text": [
      "{'Alex': 74, 'Eleanor': 37, 'Adam': 35, 'Beth': 82, 'Dave': 19, 'Freddie': 81, 'Caroline': 3}\n"
     ]
    }
   ],
   "source": [
    "import random\n",
    "\n",
    "names = ['Alex', 'Eleanor', 'Adam', 'Beth', 'Dave', 'Freddie', 'Caroline']\n",
    "student_scores = {student:random.randint(1, 100) for student in names}\n",
    "\n",
    "print(student_scores)"
   ]
  },
  {
   "cell_type": "code",
   "execution_count": 49,
   "metadata": {},
   "outputs": [
    {
     "name": "stdout",
     "output_type": "stream",
     "text": [
      "{'Alex': 74, 'Beth': 82, 'Freddie': 81}\n"
     ]
    }
   ],
   "source": [
    "pass_students = {student:score for student, score in student_scores.items() if score > 70}\n",
    "print(pass_students)"
   ]
  },
  {
   "cell_type": "markdown",
   "metadata": {},
   "source": [
    "**Exercise**\n",
    "\n",
    "**Dictionary Comprehension 1**\n",
    "\n",
    "You are going to use Dictionary Comprehension to create a dictionary called result that takes each word in the given sentence and calculates the number of letters in each word.   \n",
    "\n",
    "Try Googling to find out how to convert a sentence into a list of words.  *\n",
    "\n",
    "*Do NOT** Create a dictionary directly.\n",
    "\n",
    "Try to use Dictionary Comprehension instead of a Loop. \n",
    "\n",
    "\n",
    "\n",
    "To keep this exercise simple, count any punctuation following a word with no whitespace as part of the word. Note that \"Swallow?\" therefore has a length of 8."
   ]
  },
  {
   "cell_type": "code",
   "execution_count": 55,
   "metadata": {},
   "outputs": [
    {
     "name": "stdout",
     "output_type": "stream",
     "text": [
      "{'What': 4, 'is': 2, 'the': 3, 'Airspeed': 8, 'Velocity': 8, 'of': 2, 'an': 2, 'Unladen': 7, 'Swallow?': 8}\n"
     ]
    }
   ],
   "source": [
    "sentence = \"What is the Airspeed Velocity of an Unladen Swallow?\"\n",
    "new_sentence = [new_sentence for new_sentence in sentence.split()]\n",
    "\n",
    "result = {sentences:len(sentences) for sentences in new_sentence}\n",
    "print(result)"
   ]
  },
  {
   "cell_type": "markdown",
   "metadata": {},
   "source": [
    "**Dictionary Comprehension 2**\n",
    "\n",
    "\n",
    "You are going to use Dictionary Comprehension to create a dictionary called weather_f that takes each temperature in degrees Celsius and converts it into degrees Fahrenheit. \n",
    "\n",
    "\n",
    "\n",
    "To convert temp_c into temp_f use this formula: \n",
    "\n",
    "(temp_c * 9/5) + 32 = temp_f\n",
    "\n",
    "\n",
    "\n",
    "Celsius to Fahrenheit chart\n",
    "\n",
    "\n",
    "\n",
    "\n",
    "**Do NOT** Create a dictionary directly. Try to use Dictionary Comprehension instead of a Loop.   "
   ]
  },
  {
   "cell_type": "code",
   "execution_count": 56,
   "metadata": {},
   "outputs": [
    {
     "name": "stdout",
     "output_type": "stream",
     "text": [
      "{'Monday': 53.6, 'Tuesday': 57.2, 'Wednesday': 59.0, 'Thursday': 57.2, 'Friday': 69.8, 'Saturday': 71.6, 'Sunday': 75.2}\n"
     ]
    }
   ],
   "source": [
    "weather_c = {\"Monday\": 12, \"Tuesday\": 14, \"Wednesday\": 15, \"Thursday\": 14, \"Friday\": 21, \"Saturday\": 22, \"Sunday\": 24}\n",
    "\n",
    "weather_f = {days:(celcius * 9/5) + 32 for days, celcius in weather_c.items()}\n",
    "\n",
    "print(weather_f)"
   ]
  },
  {
   "cell_type": "markdown",
   "metadata": {},
   "source": [
    "**Iterate over Pandas DataFrame**"
   ]
  },
  {
   "cell_type": "code",
   "execution_count": 59,
   "metadata": {},
   "outputs": [
    {
     "data": {
      "text/html": [
       "<div>\n",
       "<style scoped>\n",
       "    .dataframe tbody tr th:only-of-type {\n",
       "        vertical-align: middle;\n",
       "    }\n",
       "\n",
       "    .dataframe tbody tr th {\n",
       "        vertical-align: top;\n",
       "    }\n",
       "\n",
       "    .dataframe thead th {\n",
       "        text-align: right;\n",
       "    }\n",
       "</style>\n",
       "<table border=\"1\" class=\"dataframe\">\n",
       "  <thead>\n",
       "    <tr style=\"text-align: right;\">\n",
       "      <th></th>\n",
       "      <th>student</th>\n",
       "      <th>score</th>\n",
       "    </tr>\n",
       "  </thead>\n",
       "  <tbody>\n",
       "    <tr>\n",
       "      <th>0</th>\n",
       "      <td>Angela</td>\n",
       "      <td>56</td>\n",
       "    </tr>\n",
       "    <tr>\n",
       "      <th>1</th>\n",
       "      <td>James</td>\n",
       "      <td>67</td>\n",
       "    </tr>\n",
       "    <tr>\n",
       "      <th>2</th>\n",
       "      <td>Lily</td>\n",
       "      <td>78</td>\n",
       "    </tr>\n",
       "  </tbody>\n",
       "</table>\n",
       "</div>"
      ],
      "text/plain": [
       "  student  score\n",
       "0  Angela     56\n",
       "1   James     67\n",
       "2    Lily     78"
      ]
     },
     "execution_count": 59,
     "metadata": {},
     "output_type": "execute_result"
    }
   ],
   "source": [
    "import pandas\n",
    "\n",
    "student_dict ={\n",
    "  \"student\" : ['Angela', 'James', 'Lily'],\n",
    "  \"score\" : [56, 67, 78]\n",
    "}\n",
    "\n",
    "student_data_frame = pandas.DataFrame(student_dict)\n",
    "student_data_frame\n",
    "\n",
    "\"\"\"student_dict = {\n",
    "    \"student\": [\"Angela\", \"James\", \"Lily\"], \n",
    "    \"score\": [56, 76, 98]\n",
    "}\n",
    "\n",
    "#Looping through dictionaries:\n",
    "for (key, value) in student_dict.items():\n",
    "    #Access key and value\n",
    "    pass\n",
    "\n",
    "import pandas\n",
    "student_data_frame = pandas.DataFrame(student_dict)\n",
    "\n",
    "#Loop through rows of a data frame\n",
    "for (index, row) in student_data_frame.iterrows():\n",
    "    #Access index and row\n",
    "    #Access row.student or row.score\n",
    "    pass\n",
    "\n",
    "# Keyword Method with iterrows()\n",
    "# {new_key:new_value for (index, row) in df.iterrows()}\"\"\""
   ]
  },
  {
   "cell_type": "code",
   "execution_count": 62,
   "metadata": {},
   "outputs": [
    {
     "name": "stdout",
     "output_type": "stream",
     "text": [
      "67\n"
     ]
    }
   ],
   "source": [
    "for (index, row) in student_data_frame.iterrows() :\n",
    "    if row.student == \"James\" :\n",
    "      print(row.score)"
   ]
  },
  {
   "cell_type": "markdown",
   "metadata": {},
   "source": [
    "**NATO Alphabet Project**"
   ]
  },
  {
   "cell_type": "code",
   "execution_count": 89,
   "metadata": {},
   "outputs": [
    {
     "name": "stdout",
     "output_type": "stream",
     "text": [
      "['India', 'Mike', 'Alfa', 'November', 'Uniform', 'Echo', 'Lima']\n"
     ]
    }
   ],
   "source": [
    "import pandas as pd\n",
    "\n",
    "data = pd.read_csv(\"NATO-alphabet-start/nato_phonetic_alphabet.csv\")\n",
    "\n",
    "#TODO 1. Create a dictionary in this format:\n",
    "nato_code = {row.letter:row.code for (index, row) in data.iterrows()}\n",
    "\n",
    "#TODO 2. Create a list of the phonetic code words from a word that the user inputs.\n",
    "user_input = input(\"Please input a word: \").upper()\n",
    "phonetic_list = [nato_code[letter] for letter in user_input if letter in nato_code]\n",
    "\n",
    "print(phonetic_list)"
   ]
  }
 ],
 "metadata": {
  "kernelspec": {
   "display_name": "Python 3",
   "language": "python",
   "name": "python3"
  },
  "language_info": {
   "codemirror_mode": {
    "name": "ipython",
    "version": 3
   },
   "file_extension": ".py",
   "mimetype": "text/x-python",
   "name": "python",
   "nbconvert_exporter": "python",
   "pygments_lexer": "ipython3",
   "version": "3.12.3"
  }
 },
 "nbformat": 4,
 "nbformat_minor": 2
}
