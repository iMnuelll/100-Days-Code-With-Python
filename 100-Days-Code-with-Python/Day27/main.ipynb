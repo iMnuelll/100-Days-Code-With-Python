{
 "cells": [
  {
   "cell_type": "markdown",
   "metadata": {},
   "source": [
    "**Default Value**"
   ]
  },
  {
   "cell_type": "code",
   "execution_count": 8,
   "metadata": {},
   "outputs": [
    {
     "name": "stdout",
     "output_type": "stream",
     "text": [
      "1 1 3\n"
     ]
    }
   ],
   "source": [
    "def foo(a, b=1, c=3) :\n",
    "  print(a, b, c)\n",
    "\n",
    "foo(1)"
   ]
  },
  {
   "cell_type": "code",
   "execution_count": 9,
   "metadata": {},
   "outputs": [
    {
     "name": "stdout",
     "output_type": "stream",
     "text": [
      "12 9 3\n"
     ]
    }
   ],
   "source": [
    "def foo(a, b=1, c=3) :\n",
    "  print(a, b, c)\n",
    "\n",
    "foo(12, 9)"
   ]
  },
  {
   "cell_type": "code",
   "execution_count": 10,
   "metadata": {},
   "outputs": [
    {
     "name": "stdout",
     "output_type": "stream",
     "text": [
      "31 1 4\n"
     ]
    }
   ],
   "source": [
    "def foo(a, b=1, c=3) :\n",
    "  print(a, b, c)\n",
    "\n",
    "foo(31, c=4)"
   ]
  },
  {
   "cell_type": "code",
   "execution_count": 28,
   "metadata": {},
   "outputs": [
    {
     "name": "stdout",
     "output_type": "stream",
     "text": [
      "1\n",
      "15\n"
     ]
    }
   ],
   "source": [
    "def add(*args) :\n",
    "  #Access the first args\n",
    "  print(args[0])\n",
    "  \n",
    "  result = 0\n",
    "  for num in args :\n",
    "    result += num\n",
    "  return result\n",
    "\n",
    "print(add(1, 2, 3, 4, 5))"
   ]
  },
  {
   "cell_type": "code",
   "execution_count": 6,
   "metadata": {},
   "outputs": [
    {
     "name": "stdout",
     "output_type": "stream",
     "text": [
      "24\n"
     ]
    }
   ],
   "source": [
    "def calculate(number, **kwargs) :\n",
    "    # print(kwargs)\n",
    "    \n",
    "    # for key, value in kwargs.items() :\n",
    "    #     print(key) #Print each key in the dictionary\n",
    "    #     print(value) #Print each value int the dictionary\n",
    "    \n",
    "    number += kwargs['add']\n",
    "    number *= kwargs['multiple']\n",
    "    print(number)\n",
    "    \n",
    "calculate(3, add=3, multiple=4)"
   ]
  },
  {
   "cell_type": "code",
   "execution_count": 10,
   "metadata": {},
   "outputs": [
    {
     "name": "stdout",
     "output_type": "stream",
     "text": [
      "Nissan\n",
      "GTR\n"
     ]
    }
   ],
   "source": [
    "class MyCar() :\n",
    "  \n",
    "  def __init__(self, **kw):\n",
    "    self.make = kw.get(\"make\")\n",
    "    self.model = kw.get(\"model\")\n",
    "    self.colour = kw.get(\"colour\")\n",
    "    self.seats = kw.get(\"seats\")\n",
    "\n",
    "my_car = MyCar(make=\"Nissan\", model=\"GTR\")\n",
    "\n",
    "print(my_car.make)\n",
    "print(my_car.model)"
   ]
  },
  {
   "cell_type": "markdown",
   "metadata": {},
   "source": [
    "All Aboard"
   ]
  },
  {
   "cell_type": "code",
   "execution_count": 11,
   "metadata": {},
   "outputs": [
    {
     "name": "stdout",
     "output_type": "stream",
     "text": [
      "2 (3, 4, 5, 6, 7) {'x': 10, 'y': 12}\n"
     ]
    }
   ],
   "source": [
    "def allAboard(a, *args, **kw) :\n",
    "  print(a, args, kw)\n",
    "  \n",
    "allAboard(2, 3,4,5,6,7, x=10, y=12)"
   ]
  },
  {
   "cell_type": "code",
   "execution_count": 14,
   "metadata": {},
   "outputs": [
    {
     "name": "stdout",
     "output_type": "stream",
     "text": [
      "0 Apple\n",
      "1 Pear\n",
      "2 Banana\n",
      "3 Orange\n"
     ]
    }
   ],
   "source": [
    "fruits = ['Apple', 'Pear', 'Banana', 'Orange']\n",
    "\n",
    "for item in fruits :\n",
    "  print(fruits.index(item), item)"
   ]
  },
  {
   "cell_type": "code",
   "execution_count": null,
   "metadata": {},
   "outputs": [],
   "source": []
  }
 ],
 "metadata": {
  "kernelspec": {
   "display_name": "Python 3",
   "language": "python",
   "name": "python3"
  },
  "language_info": {
   "codemirror_mode": {
    "name": "ipython",
    "version": 3
   },
   "file_extension": ".py",
   "mimetype": "text/x-python",
   "name": "python",
   "nbconvert_exporter": "python",
   "pygments_lexer": "ipython3",
   "version": "3.12.3"
  }
 },
 "nbformat": 4,
 "nbformat_minor": 2
}
