{
 "cells": [
  {
   "cell_type": "markdown",
   "metadata": {},
   "source": [
    "### Explanation of Catching Exceptions in Python\n",
    "\n",
    "In Python, exceptions are errors that occur during the execution of a program. You can use a `try-except` block to handle these exceptions gracefully without crashing the program. Here’s how it works:\n",
    "\n",
    "1. **`try` Block**:\n",
    "   - Contains the code that might raise an exception.\n",
    "   - If no exceptions occur, the program proceeds to the `else` block (if it exists).\n",
    "\n",
    "2. **`except` Block**:\n",
    "   - This block is executed if an exception occurs in the `try` block.\n",
    "   - You can also specify the type of exception to catch specific errors.\n",
    "\n",
    "3. **`else` Block** (optional):\n",
    "   - This block is executed only if no exceptions are raised in the `try` block.\n",
    "\n",
    "4. **`finally` Block** (optional):\n",
    "   - This block is always executed, whether an exception occurred or not. It's typically used for cleanup tasks.\n",
    "\n",
    "Here’s a basic structure of how to use these blocks:\n",
    "\n",
    "```python\n",
    "try:\n",
    "    # Code that might raise an exception\n",
    "except SomeException:\n",
    "    # Code to handle the exception\n",
    "else:\n",
    "    # Code to run if no exceptions occur\n",
    "finally:\n",
    "    # Code to run no matter what (e.g., cleanup)\n"
   ]
  },
  {
   "cell_type": "code",
   "execution_count": 1,
   "metadata": {},
   "outputs": [],
   "source": [
    "# This code will return an error\n",
    "\n",
    "# # File not found\n",
    "# with open (\"a_file.txt\") as file :\n",
    "#   file.read()\n",
    "  \n",
    "# # Key Error\n",
    "# a_dictionary = {\"key\" : \"value\"}\n",
    "# value = a_dictionary[\"non_existent_key\"]\n",
    "\n",
    "# # Index error\n",
    "# fruit_list = [\"Apple\", \"Orange\", \"Pear\"]\n",
    "# fruit = fruit_list[3]\n",
    "\n",
    "# # Type error\n",
    "# text = \"abc\"\n",
    "# print(text + 5)"
   ]
  },
  {
   "cell_type": "code",
   "execution_count": 3,
   "metadata": {},
   "outputs": [
    {
     "name": "stdout",
     "output_type": "stream",
     "text": [
      "value\n",
      "Write something\n",
      "File was close\n"
     ]
    }
   ],
   "source": [
    "try :\n",
    "  file = open(\"a_file.txt\")\n",
    "  a_dictionary = {\"key\": \"value\"}\n",
    "  print(a_dictionary[\"key\"])\n",
    "except FileNotFoundError :\n",
    "  file = open(\"a_file.txt\", \"w\")\n",
    "  file.write(\"Write something\")\n",
    "except KeyError as error_message :\n",
    "  print(f\"The key {error_message} does not exist\")\n",
    "else :\n",
    "  content = file.read()\n",
    "  print(content)\n",
    "finally :\n",
    "  file.close()\n",
    "  print(\"File was close\")"
   ]
  },
  {
   "cell_type": "code",
   "execution_count": 4,
   "metadata": {},
   "outputs": [
    {
     "ename": "ValueError",
     "evalue": "Human Height should not exceed 3 meters",
     "output_type": "error",
     "traceback": [
      "\u001b[1;31m---------------------------------------------------------------------------\u001b[0m",
      "\u001b[1;31mValueError\u001b[0m                                Traceback (most recent call last)",
      "Cell \u001b[1;32mIn[4], line 6\u001b[0m\n\u001b[0;32m      3\u001b[0m weight \u001b[38;5;241m=\u001b[39m \u001b[38;5;28mint\u001b[39m(\u001b[38;5;28minput\u001b[39m(\u001b[38;5;124m\"\u001b[39m\u001b[38;5;124mWeight: \u001b[39m\u001b[38;5;124m\"\u001b[39m))\n\u001b[0;32m      5\u001b[0m \u001b[38;5;28;01mif\u001b[39;00m height \u001b[38;5;241m>\u001b[39m \u001b[38;5;241m3\u001b[39m :\n\u001b[1;32m----> 6\u001b[0m   \u001b[38;5;28;01mraise\u001b[39;00m \u001b[38;5;167;01mValueError\u001b[39;00m(\u001b[38;5;124m\"\u001b[39m\u001b[38;5;124mHuman Height should not exceed 3 meters\u001b[39m\u001b[38;5;124m\"\u001b[39m)\n\u001b[0;32m      8\u001b[0m bmi \u001b[38;5;241m=\u001b[39m weight \u001b[38;5;241m/\u001b[39m (height \u001b[38;5;241m*\u001b[39m\u001b[38;5;241m*\u001b[39m \u001b[38;5;241m2\u001b[39m)\n\u001b[0;32m      9\u001b[0m \u001b[38;5;28mprint\u001b[39m(bmi)\n",
      "\u001b[1;31mValueError\u001b[0m: Human Height should not exceed 3 meters"
     ]
    }
   ],
   "source": [
    "# Own Exceptions\n",
    "height = float(input(\"Height: \"))\n",
    "weight = int(input(\"Weight: \"))\n",
    "\n",
    "if height > 3 :\n",
    "  raise ValueError(\"Human Height should not exceed 3 meters\")\n",
    "\n",
    "bmi = weight / (height ** 2)\n",
    "print(bmi)"
   ]
  },
  {
   "cell_type": "code",
   "execution_count": 8,
   "metadata": {},
   "outputs": [
    {
     "name": "stdout",
     "output_type": "stream",
     "text": [
      "Fruit Pie\n"
     ]
    }
   ],
   "source": [
    "fruits = [\"Apple\", \"Pear\", \"Orange\"]\n",
    "\n",
    "# Catch the exception and make sure the code runs without crashing.\n",
    "def make_pie(index):\n",
    "  try :\n",
    "    fruit = fruits[index]\n",
    "  except IndexError :\n",
    "    print(\"Fruit Pie\")\n",
    "  else :\n",
    "    print(fruit + \" pie\")\n",
    "\n",
    "make_pie(3)"
   ]
  },
  {
   "cell_type": "code",
   "execution_count": 14,
   "metadata": {},
   "outputs": [
    {
     "name": "stdout",
     "output_type": "stream",
     "text": [
      "86\n"
     ]
    }
   ],
   "source": [
    "facebook_posts = [\n",
    "    {'Likes': 21, 'Comments': 2},\n",
    "    {'Likes': 13, 'Comments': 2, 'Shares': 1},\n",
    "    {'Likes': 33, 'Comments': 8, 'Shares': 3},\n",
    "    {'Comments': 4, 'Shares': 2},\n",
    "    {'Comments': 1, 'Shares': 1},\n",
    "    {'Likes': 19, 'Comments': 3}\n",
    "]\n",
    "\n",
    "def count_likes(posts):\n",
    "  total_likes = 0\n",
    "  for post in posts:\n",
    "    try :\n",
    "      total_likes = total_likes + post['Likes']\n",
    "    except KeyError :\n",
    "      pass\n",
    "  print(total_likes)\n",
    "\n",
    "count_likes(facebook_posts)"
   ]
  },
  {
   "cell_type": "code",
   "execution_count": null,
   "metadata": {},
   "outputs": [],
   "source": []
  }
 ],
 "metadata": {
  "kernelspec": {
   "display_name": "Python 3",
   "language": "python",
   "name": "python3"
  },
  "language_info": {
   "codemirror_mode": {
    "name": "ipython",
    "version": 3
   },
   "file_extension": ".py",
   "mimetype": "text/x-python",
   "name": "python",
   "nbconvert_exporter": "python",
   "pygments_lexer": "ipython3",
   "version": "3.12.5"
  }
 },
 "nbformat": 4,
 "nbformat_minor": 2
}
